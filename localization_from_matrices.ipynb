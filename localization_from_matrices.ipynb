{
 "cells": [
  {
   "cell_type": "markdown",
   "metadata": {},
   "source": [
    "The basic problem of geolocalization to extract locations from (preferably many) measurements.  I'll start by doing this on a plane, and we can progress to a network later if that works.  Locations are thus expressed in two coordinates -- $θ$ and $φ$, or lat and lon, or x and y.\n",
    "\n",
    "### Some math.\n",
    "\n",
    "The approach that follows derives from my work on the ATLAS Fast TracKer, which was just a PCA firmware supercomputer.  Looking over this, the PCA is not really needed here -- it was just a convenience since the main interest was very, very rapid calculation of the linearized $\\chi^2$.  But the calculation of the location fit parameters is quite useful.  I have basically extracted this derivation from Chapter 4 of the technical design report of the Silicon Vertex Tracker (cdf/doc/trigger/public/3108), which was its predecessor at CDF (Collider Detector at Fermilab).  Unfortunately, this document does not appear to be publicly available.\n",
    "\n",
    "For a perfect system without noise, we have a location $\\vec{x}$ that can be expressed as a function of parameters $\\vec{p}$:\n",
    "* $\\vec{x} = \\vec{x}(\\vec{p})$\n",
    "\n",
    "For localization, we would invert and linearize the parameter and measurement functions:\n",
    "* $p_i = p_i(\\vec{x})≈ \\vec{w}_i · \\vec{x} + q_i$\n",
    "\n",
    "The problem of localization is now to find $\\vec{w}_i$ and $q_i$.  To do that, just fit!  We will do this using a (simulated) covariance matrix.  We minimize the error / variance of the true values $\\tilde{p}_i$ with respect to the predictions $p_i(\\vec{x})$.  What we're really looking at is:\n",
    "* $p_i(\\vec{x}) = \\vec{w}_i · \\vec{x} + q_i$\n",
    "* $\\tilde{p}_i - p_i(\\vec{x}) = \\tilde{p}_i - \\vec{w}_i · \\vec{x} - q_i$\n",
    "* $\\tilde{p}_i - p_i(\\vec{x}) = -(\\vec{w}_i · \\vec{x} - \\tilde{p}_i + q_i)$\n",
    "\n",
    "(The last line, flipping the sign, is just slightly nicer, moving forward.  We'll square everything anyway, so signs are a bit irrelevant.)\n",
    "\n",
    "Defining $\\vec{X} ≡ (\\vec{x}, \\tilde{p}_i)$ and $\\vec{W}_i ≡ (\\vec{w}_i, -1)$, we can write the error as\n",
    "* $\\tilde{p}_i - p_i(\\vec{x}) = \\vec{W}_i · \\vec{X} + q_i$\n",
    "\n",
    "We want to minimize\n",
    "* $\\partial (\\tilde{p}_i - p_i(\\vec{x}))^2 / \\partial w_i = 0$\n",
    "\n",
    "Restated, we want to minimize the variance of $\\vec{W}_i · \\vec{X}$ with respect to $\\vec{W}_i$.  Recall that the covariance of the product $\\vec{b}\\vec{X}$ is $\\vec{b} \\text{cov}(X)\\vec{b}^T$.  Since we're minimizing with respect to $\\vec{w}_i$, the $q_i$'s drop off and it's just minimizing \n",
    "* $\\text{cov}(\\tilde{p}_i - p_i(\\vec{x})) = \\vec{W}_i \\text{cov}(\\vec{X}) \\vec{W}_i$\n",
    "\n",
    "This finally reaches the punchline.  We can easily use simulation to estimate the covariance of $\\vec{X}$.\n",
    "Let's be explict then, that this covariance is\n",
    "* $C = \\begin{pmatrix} M & \\gamma \\\\ \\gamma^T & \\sigma^2(\\tilde{p}_i)\\end{pmatrix}$\n",
    "\n",
    "where $M$ is the covariance of the _measurements_ and $\\gamma$ is the covariance of the measurments with the true parameters, $\\gamma = \\langle{\\tilde{p}_i \\vec{x}}\\rangle - \\langle{\\tilde{p}_i\\rangle \\langle\\vec{x}}\\rangle$.  So we can write this\n",
    "* $\\text{cov}(\\tilde{p}_i - p_i(\\vec{x})) = \\vec{w}_i M \\vec{w}_i - 2 \\vec{w}_i · \\gamma + \\sigma^2(\\tilde{p}_i)$\n",
    "\n",
    "Minimizing with respect to $\\vec{w}_i$, we get\n",
    "* $M \\vec{w}_i = \\vec{\\gamma}$\n",
    "* $\\vec{w}_i = M^{-1}\\vec{\\gamma}$.\n",
    "\n",
    "With known $\\vec{w}_i$, it is trivial to find the offsets, \n",
    "* $q_i = \\langle \\tilde{p}_i \\rangle - \\langle \\vec{w}_i · \\vec{x} \\rangle$.\n",
    "\n",
    "The problem thus reduces to simulating the combined covariance matrix of the measurements and true parameters.  In the \"real world,\" this requires a sample where the locations $\\vec{x}$ are measured with minimal error -- either from GPS or from highly-localized CIDR blocks.\n",
    "\n",
    "Note that this should automatically account for varying latencies or server responses, but that it assumes that things are linear in the parameters.  This means that segmenting / block diagonalizing the data judiciously (e.g., by carrrier) will probably help.\n",
    "\n",
    "It is useful to note the measurement functions $\\vec{x}(\\vec{p})$ can also be written as a constraint equations:\n",
    "* $f_i(\\vec{x}) = 0$.\n",
    "\n",
    "Note that the quantities are only identically 0 if measurements are perfect and there is no noise etc.  In practice, there will be some variance, which we'd like to quantify.  If we have $N$ measurements and two degrees of freedom, there are $N-2$ such equations.\n",
    "\n",
    "Linearizing these constraints are linearized, we have:\n",
    "* $f_i(\\vec{x}) \\approx \\vec{v}_i · \\vec{x} + c_i$\n",
    "\n",
    "Using the same multiplication rue for covariance as above, we can write out the variance of this as:\n",
    "* $σ_f^2 \\approx \\vec{v} · M · \\vec{v}$\n",
    "\n",
    "Alternatively, we can just note that if $\\vec{x}$ is a random vector with covariance matrix $M$, that $(\\vec{x}  - \\langle\\vec{x}\\rangle)^T · M^{-1} · (\\vec{x}  - \\langle\\vec{x}\\rangle)$ follows a $\\chi^2$ distribution.\n",
    "\n",
    "At any rate, if we can estimate the covariance matrix -- and this can be done from either data or simulation -- then we can get a measure of the goodness of fit of a new location, and if that location is an outlier.\n",
    "\n",
    "We don't actually need PCA -- diagonalization of the covariance matrix -- at this point, but it offers a bit of insight.  Decompose $M$ into eigenvectors $\\vec{u}_i$ and eigenvalues $\\lambda_i$, so $M^{-1} = Q^{-1} \\Lambda^{-1} Q$.  If we write this as $\\Lambda_{ii} = \\lambda_i$, that's \n",
    "* $M^{-1}_{ik} = Q^{-1}_{ik} \\frac{\\delta_{kj}}{\\lambda_k}  Q_{kj}$.\n",
    "\n",
    "We can take either half of that matrix as $A_{ij} = u_{ij}/\\sqrt{\\lambda_i}$.\n",
    "\n",
    "Note that $1/\\sqrt{\\lambda_i}$ is basically the standard deviation for that constraint.  We can thus write the constraints as a single sum:\n",
    "* $\\chi^2 = \\sum_i \\sum_j A_{ij} x_j + c_i$\n",
    "\n",
    "(Since the constraints are set to 0, the offsets of the constraints $c_i$ can be derived as $c_i = \\langle \\vec{v}_{i} · \\vec{x} \\rangle$.)\n",
    "\n",
    "There are two real degrees of freedom here, and so $M$ will have two large eigenvalues -- call them $\\lambda_0$ and $\\lambda_1$.  For those two cases, $1/\\lambda_0$ and $1/\\lambda_1$ will be _small_, and their contributions to the $\\chi^2$ minimal.  The main contribution comes from the other $N-2$ measurements.\n",
    "\n",
    "### Computational example.\n",
    "\n",
    "Lets simulate $L$ landmarks and $N$ locations.  Their physical locations of location $i$ to landmark $\\ell$ are $\\vec{x}_i$ and $\\vec{x}_i$, and the distances between them are $d_{i\\ell}$.\n",
    "\n",
    "From these measures, we have construct a vectors $v$ of length $L+2$ for each location, for which we want to construct the covariance matrix $C$.  We then find our linearized position from\n",
    "\n",
    "* $p_i(\\vec{x}) \\approx \\vec{w}_i · \\vec{x} + q_i$\n",
    "* $\\vec{w}_i = M^{-1}\\vec{\\gamma}$.\n",
    "* $q_i = \\langle \\tilde{p}_i \\rangle - \\langle \\vec{w}_i · \\vec{x} \\rangle$."
   ]
  },
  {
   "cell_type": "markdown",
   "metadata": {},
   "source": [
    "Imports:"
   ]
  },
  {
   "cell_type": "code",
   "execution_count": 1,
   "metadata": {},
   "outputs": [],
   "source": [
    "import numpy as np\n",
    "from scipy.spatial import distance"
   ]
  },
  {
   "cell_type": "markdown",
   "metadata": {},
   "source": [
    "Simulation constants:"
   ]
  },
  {
   "cell_type": "code",
   "execution_count": 2,
   "metadata": {},
   "outputs": [],
   "source": [
    "dim, L, N = 2, 100, 10000"
   ]
  },
  {
   "cell_type": "markdown",
   "metadata": {},
   "source": [
    "Define the landmarks and locations:"
   ]
  },
  {
   "cell_type": "code",
   "execution_count": 3,
   "metadata": {},
   "outputs": [],
   "source": [
    "landmarks = np.random.rand(L, dim)\n",
    "\n",
    "# Note: the location space must be pretty small for the \n",
    "#  linear approximations of the covariance to work.\n",
    "x, y, dx, dy = 0.2, 0.3, 0.05, 0.05\n",
    "x, y, dx, dy = 0, 0, 1, 1\n",
    "locations = np.random.rand(N, dim) * np.array([dx, dy]) + np.array([x, y])"
   ]
  },
  {
   "cell_type": "markdown",
   "metadata": {},
   "source": [
    "And the distances between them:"
   ]
  },
  {
   "cell_type": "code",
   "execution_count": 4,
   "metadata": {},
   "outputs": [],
   "source": [
    "distances = distance.cdist(landmarks, locations)"
   ]
  },
  {
   "cell_type": "markdown",
   "metadata": {},
   "source": [
    "Now append the true parameters / locations to the measurements / distances."
   ]
  },
  {
   "cell_type": "code",
   "execution_count": 5,
   "metadata": {},
   "outputs": [],
   "source": [
    "vectors = np.concatenate([distances, locations.T])"
   ]
  },
  {
   "cell_type": "markdown",
   "metadata": {},
   "source": [
    "Calculate the covariance matrix $C$, the distance covariances $M$, and the cross term $\\gamma$:"
   ]
  },
  {
   "cell_type": "code",
   "execution_count": 6,
   "metadata": {},
   "outputs": [],
   "source": [
    "C = np.cov(vectors)\n",
    "\n",
    "Minv = np.linalg.inv(C[:L,:L])\n",
    "gamma = C[:L,-2:]"
   ]
  },
  {
   "cell_type": "markdown",
   "metadata": {},
   "source": [
    "And then take the matrix product to get the parameters."
   ]
  },
  {
   "cell_type": "code",
   "execution_count": 7,
   "metadata": {},
   "outputs": [],
   "source": [
    "wi = np.matmul(Minv, gamma)"
   ]
  },
  {
   "cell_type": "markdown",
   "metadata": {},
   "source": [
    "The offsets are the differences of the means of the locations and the products $\\vec{w} · \\vec{x}$."
   ]
  },
  {
   "cell_type": "code",
   "execution_count": 8,
   "metadata": {},
   "outputs": [],
   "source": [
    "mean_loc = np.mean(locations, axis = 0)\n",
    "mean_lin = np.mean(np.matmul(wi.T, distances), axis = 1)\n",
    "\n",
    "qi = mean_loc - mean_lin"
   ]
  },
  {
   "cell_type": "markdown",
   "metadata": {},
   "source": [
    "We can now reconstruct the locations "
   ]
  },
  {
   "cell_type": "code",
   "execution_count": 9,
   "metadata": {},
   "outputs": [],
   "source": [
    "rec = np.matmul(wi.T, distances) + qi[:,np.newaxis]"
   ]
  },
  {
   "cell_type": "markdown",
   "metadata": {},
   "source": [
    "Let's look at the errors...."
   ]
  },
  {
   "cell_type": "code",
   "execution_count": 10,
   "metadata": {},
   "outputs": [],
   "source": [
    "locT = locations.T\n",
    "\n",
    "errx = locT[0] - rec[0]\n",
    "erry = locT[1] - rec[1]"
   ]
  },
  {
   "cell_type": "code",
   "execution_count": 11,
   "metadata": {},
   "outputs": [
    {
     "data": {
      "text/plain": [
       "<matplotlib.axes._subplots.AxesSubplot at 0x117b73da0>"
      ]
     },
     "execution_count": 11,
     "metadata": {},
     "output_type": "execute_result"
    },
    {
     "data": {
      "image/png": "[encoded data removed]",
      "text/plain": [
       "<Figure size 432x288 with 1 Axes>"
      ]
     },
     "metadata": {
      "needs_background": "light"
     },
     "output_type": "display_data"
    }
   ],
   "source": [
    "fig, ax = plt.subplots()\n",
    "\n",
    "extent = max(np.quantile(np.abs(errx), 0.99), \n",
    "             np.quantile(np.abs(erry), 0.99))\n",
    "\n",
    "bins = np.linspace(-extent, extent, 40)\n",
    "bins = np.linspace(-extent, extent, 40)\n",
    "\n",
    "ax.hist(errx, histtype = \"step\", bins = bins)\n",
    "ax.hist(erry, histtype = \"step\", bins = bins)\n",
    "\n",
    "ax"
   ]
  },
  {
   "cell_type": "markdown",
   "metadata": {},
   "source": [
    "And the coverage..."
   ]
  },
  {
   "cell_type": "code",
   "execution_count": 12,
   "metadata": {
    "scrolled": true
   },
   "outputs": [
    {
     "data": {
      "text/plain": [
       "<matplotlib.collections.PathCollection at 0x11b5f7f60>"
      ]
     },
     "execution_count": 12,
     "metadata": {},
     "output_type": "execute_result"
    },
    {
     "data": {
      "image/png": "[encoded data removed]",
      "text/plain": [
       "<Figure size 432x288 with 1 Axes>"
      ]
     },
     "metadata": {
      "needs_background": "light"
     },
     "output_type": "display_data"
    }
   ],
   "source": [
    "plt.scatter(rec[0], rec[1])"
   ]
  },
  {
   "cell_type": "code",
   "execution_count": null,
   "metadata": {},
   "outputs": [],
   "source": []
  }
 ],
 "metadata": {
  "kernelspec": {
   "display_name": "Python 3",
   "language": "python",
   "name": "python3"
  },
  "language_info": {
   "codemirror_mode": {
    "name": "ipython",
    "version": 3
   },
   "file_extension": ".py",
   "mimetype": "text/x-python",
   "name": "python",
   "nbconvert_exporter": "python",
   "pygments_lexer": "ipython3",
   "version": "3.6.7"
  }
 },
 "nbformat": 4,
 "nbformat_minor": 2
}
