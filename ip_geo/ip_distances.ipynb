{
 "cells": [
  {
   "cell_type": "code",
   "execution_count": 1,
   "metadata": {
    "scrolled": false
   },
   "outputs": [
    {
     "name": "stderr",
     "output_type": "stream",
     "text": [
      "/home/jsaxon/anaconda3/envs/aws/lib/python3.7/site-packages/tqdm/std.py:658: FutureWarning: The Panel class is removed from pandas. Accessing it from the top-level namespace will also be removed in the next version\n",
      "  from pandas import Panel\n"
     ]
    }
   ],
   "source": [
    "from ip_geo2 import *"
   ]
  },
  {
   "cell_type": "markdown",
   "metadata": {},
   "source": [
    "### IP Geolocation databases and functions."
   ]
  },
  {
   "cell_type": "code",
   "execution_count": 2,
   "metadata": {},
   "outputs": [],
   "source": [
    "import maxminddb as mmdb\n",
    "import IP2Location as ip2loc\n",
    "\n",
    "geolite   = mmdb.open_database('../data/geolite2.mmdb')\n",
    "\n",
    "ip2loc_v4 = ip2loc.IP2Location(\"../data/ip2loc_ipv4_db5.bin\")\n",
    "ip2loc_v6 = ip2loc.IP2Location(\"../data/ip2loc_ipv6_db5.bin\")\n",
    "\n",
    "\n",
    "def get_locations(x):\n",
    "    \n",
    "    loc = {\"ip_address\" : x, \n",
    "           \"mm_lat\" : np.nan, \"mm_lon\" : np.nan, \n",
    "           \"mm_acc\" : np.nan, \"mm_loc\" : np.nan,\n",
    "           \"ip2loc_lat\" : np.nan, \"ip2loc_lon\" : np.nan,\n",
    "           \"ip2loc_loc\" : np.nan}\n",
    "    \n",
    "    mm_ret = geolite.get(x)\n",
    "    if mm_ret is not None and \"location\" in mm_ret:\n",
    "        mm_loc = mm_ret[\"location\"]\n",
    "        loc[\"mm_lat\"] = mm_loc[\"latitude\"]\n",
    "        loc[\"mm_lon\"] = mm_loc[\"longitude\"]\n",
    "        loc[\"mm_acc\"] = mm_loc[\"accuracy_radius\"]\n",
    "        loc[\"mm_loc\"] = Point([loc[\"mm_lon\"], loc[\"mm_lat\"]])\n",
    "\n",
    "\n",
    "    if \".\" in x: ip2loc_ret = ip2loc_v4.get_all(x)\n",
    "    else:        ip2loc_ret = ip2loc_v6.get_all(x)\n",
    "        \n",
    "    if ip2loc_ret.country_short != \"-\":\n",
    "        loc[\"ip2loc_lat\"] = ip2loc_ret.latitude\n",
    "        loc[\"ip2loc_lon\"] = ip2loc_ret.longitude\n",
    "        loc[\"ip2loc_loc\"] = Point([loc[\"ip2loc_lon\"], loc[\"ip2loc_lat\"]])\n",
    "        \n",
    "    return pd.Series(loc)\n"
   ]
  },
  {
   "cell_type": "markdown",
   "metadata": {},
   "source": [
    "### ASNs"
   ]
  },
  {
   "cell_type": "code",
   "execution_count": 3,
   "metadata": {},
   "outputs": [],
   "source": [
    "from pyasn import pyasn\n",
    "\n",
    "asndb = pyasn(\"data/ipasn_20200811.dat.gz\")"
   ]
  },
  {
   "cell_type": "markdown",
   "metadata": {},
   "source": [
    "### Haversine to avoid projecting over long distances."
   ]
  },
  {
   "cell_type": "code",
   "execution_count": 4,
   "metadata": {},
   "outputs": [],
   "source": [
    "def haversine(x1, y1, x2, y2):\n",
    "    \n",
    "    x1 = np.deg2rad(x1)\n",
    "    y1 = np.deg2rad(y1)\n",
    "    x2 = np.deg2rad(x2)\n",
    "    y2 = np.deg2rad(y2)\n",
    "    \n",
    "    hav = 2 * np.arcsin(np.sqrt(np.sin((x1 - x2) / 2)**2 + np.cos(x1) * np.cos(x2) * np.sin((y1 - y2) / 2)**2))\n",
    "    \n",
    "    hav[np.isnan(hav)] = np.inf\n",
    "    \n",
    "    hav_dist = hav * 6371\n",
    "    \n",
    "    return hav_dist\n"
   ]
  },
  {
   "cell_type": "markdown",
   "metadata": {},
   "source": [
    "### Plotting Macro."
   ]
  },
  {
   "cell_type": "code",
   "execution_count": 5,
   "metadata": {},
   "outputs": [],
   "source": [
    "import matplotlib.ticker as mticker\n",
    "\n",
    "colors = {\n",
    "    \"mm\" : \"#128BE9\", \"ip\" : \"#0C3B7C\",\n",
    "    \"comcast\" : \"#000000\", \"verizon\" : \"#cf1c1a\", \n",
    "    \"att\" : \"#1391d2\", \"sprint\" : \"#fdbf0e\", \"tmobile\" : \"#db006c\"\n",
    "}\n",
    "\n",
    "labels = {\n",
    "    \"mm\" : \"MaxMind\", \"ip\" : \"IP2Location\",\n",
    "    \"comcast\" : \"Comcast\", \"verizon\" : \"Verizon\", \n",
    "    \"att\" : \"AT&T\", \"sprint\" : \"Sprint\", \"tmobile\" : \"T-Mobile\"\n",
    "}\n",
    "\n",
    "bins = list(np.arange(0, 10, 0.01).round(2)) + \\\n",
    "       list(np.arange(10, 100, 0.1).round(1)) + \\\n",
    "       list(range(100, 1000, 1)) + list(range(1000, 20000, 10))\n",
    "\n",
    "args = {\"cumulative\" : True, \"density\" : 1, \"bins\" : bins, \"histtype\" : \"step\", \"lw\" : 1.5}\n",
    "\n",
    "leg_args = {\"loc\" : \"lower right\", \"facecolor\" : \"w\", \"framealpha\" : 1, \"frameon\" : True}\n",
    "\n",
    "dots = (0, (1, 0)), (0, (2, 5)), (2, (2, 2))\n",
    "\n",
    "def get_figs(kv, leg = True, cmap = None, ax = None, save = \"\"):\n",
    "\n",
    "    if not ax: fig, ax = plt.subplots()\n",
    "\n",
    "    if cmap: cmap = plt.get_cmap(cmap)\n",
    "\n",
    "    for ki, (k, v) in enumerate(kv.items()):\n",
    "        \n",
    "        label = k    if k not in labels else labels[k]\n",
    "        ls    = \"-\"  if len(kv) > 3     else dots[ki]\n",
    "        \n",
    "        color = None\n",
    "        if k in colors: color = colors[k]\n",
    "        if cmap:\n",
    "            color = \"#{:02X}{:02X}{:02X}\".format(*[int(v*255) for v in cmap(ki/(len(kv)-1))])\n",
    "        \n",
    "        v.hist(label = label, color = color, ls = ls, ax = ax, **args)\n",
    "        \n",
    "\n",
    "    if leg: ax.legend(**leg_args)\n",
    "        \n",
    "    ax.set_xlim(1, 3000)\n",
    "    ax.set_xscale(\"log\")\n",
    "    ax.xaxis.set_major_formatter(mticker.ScalarFormatter())\n",
    "    ax.set_xlabel(\"GPS to Geolocated IP [km]\")\n",
    "    ax.set_ylabel(\"Cumulative Density\")\n",
    "    \n",
    "    if save: ax.figure.savefig(\"figs/{}.pdf\".format(save))\n",
    "    if save: ax.figure.savefig(\"figs/{}.png\".format(save), dpi = 300)\n",
    "    \n",
    "    return ax"
   ]
  },
  {
   "cell_type": "markdown",
   "metadata": {},
   "source": [
    "### Analysis...\n",
    "\n",
    "#### Get the data..."
   ]
  },
  {
   "cell_type": "code",
   "execution_count": 6,
   "metadata": {},
   "outputs": [
    {
     "name": "stdout",
     "output_type": "stream",
     "text": [
      "15643814 2.002408192\n"
     ]
    }
   ],
   "source": [
    "chicago_ip = get_data()\n",
    "chicago_ip.rename(columns = {\"latitude\" : \"lat\", \"longitude\" : \"lon\"}, inplace = True)"
   ]
  },
  {
   "cell_type": "markdown",
   "metadata": {},
   "source": [
    "A few are non-IANA-special CIDR are missing when using the pyasn approach.  Most of these are DoD addresses, but some are T-Mobile.  They are not dominantly IPv4 or IPv6."
   ]
  },
  {
   "cell_type": "markdown",
   "metadata": {},
   "source": [
    "#### Extract the IP addresses, so that we only do this lookup once."
   ]
  },
  {
   "cell_type": "code",
   "execution_count": 7,
   "metadata": {},
   "outputs": [
    {
     "name": "stderr",
     "output_type": "stream",
     "text": [
      "100%|██████████| 338953/338953 [04:33<00:00, 1241.36it/s]\n"
     ]
    }
   ],
   "source": [
    "unique_ip = chicago_ip.ip_address.sort_values().drop_duplicates().reset_index(drop = True)\n",
    "\n",
    "ip_locations = unique_ip.progress_apply(get_locations)\n",
    "\n",
    "ip_locations[\"mm_ip_dist\"] = haversine(ip_locations.ip2loc_lat, ip_locations.ip2loc_lon,\n",
    "                                       ip_locations.mm_lat,     ip_locations.mm_lon)"
   ]
  },
  {
   "cell_type": "markdown",
   "metadata": {},
   "source": [
    "#### Merge them back on, and calulate the distances to the GPS locations."
   ]
  },
  {
   "cell_type": "code",
   "execution_count": 8,
   "metadata": {},
   "outputs": [],
   "source": [
    "chicago_ip = chicago_ip.merge(ip_locations)\n",
    "\n",
    "chicago_ip[\"gps_ip_dist\"] = haversine(chicago_ip.lat,        chicago_ip.lon,\n",
    "                                      chicago_ip.ip2loc_lat, chicago_ip.ip2loc_lon)\n",
    "\n",
    "chicago_ip[\"gps_mm_dist\"] = haversine(chicago_ip.lat,    chicago_ip.lon,\n",
    "                                      chicago_ip.mm_lat, chicago_ip.mm_lon)\n",
    "\n",
    "chicago_ip[\"C\"] = 1"
   ]
  },
  {
   "cell_type": "markdown",
   "metadata": {},
   "source": [
    "In short, MaxMind is better."
   ]
  },
  {
   "cell_type": "code",
   "execution_count": 9,
   "metadata": {},
   "outputs": [
    {
     "data": {
      "text/plain": [
       "gps_ip_dist    0.895122\n",
       "gps_mm_dist    0.974300\n",
       "dtype: float64"
      ]
     },
     "execution_count": 9,
     "metadata": {},
     "output_type": "execute_result"
    }
   ],
   "source": [
    "(chicago_ip.query(\"DBA == 'Comcast'\").filter(regex = \"gps.*dist\", axis = 1) < 50).mean()"
   ]
  },
  {
   "cell_type": "markdown",
   "metadata": {},
   "source": [
    "### First-Blush Accuracy:"
   ]
  },
  {
   "cell_type": "code",
   "execution_count": 10,
   "metadata": {},
   "outputs": [
    {
     "data": {
      "text/plain": [
       "<matplotlib.axes._subplots.AxesSubplot at 0x7fd545163890>"
      ]
     },
     "execution_count": 10,
     "metadata": {},
     "output_type": "execute_result"
    },
    {
     "data": {
      "image/png": "[encoded data removed]",
      "text/plain": [
       "<Figure size 432x288 with 1 Axes>"
      ]
     },
     "metadata": {
      "needs_background": "light"
     },
     "output_type": "display_data"
    }
   ],
   "source": [
    "get_figs({\"mm\" : chicago_ip.gps_mm_dist, \"ip\" : chicago_ip.gps_ip_dist}, save = \"acc_mm_v_ip2loc\")"
   ]
  },
  {
   "cell_type": "markdown",
   "metadata": {},
   "source": [
    "### Accuracy by Carrier"
   ]
  },
  {
   "cell_type": "markdown",
   "metadata": {},
   "source": [
    "These are the big boys:"
   ]
  },
  {
   "cell_type": "code",
   "execution_count": 11,
   "metadata": {},
   "outputs": [
    {
     "data": {
      "text/plain": [
       "T-Mobile    4606423\n",
       "ATT         3119312\n",
       "Comcast     2669211\n",
       "Sprint      2301770\n",
       "Verizon     1677817\n",
       "IANA         631780\n",
       "RCN          196579\n",
       "WOW          126597\n",
       "PSINet        22514\n",
       "SPC           20133\n",
       "Name: DBA, dtype: int64"
      ]
     },
     "execution_count": 11,
     "metadata": {},
     "output_type": "execute_result"
    }
   ],
   "source": [
    "chicago_ip.DBA.value_counts().head(10)"
   ]
  },
  {
   "cell_type": "code",
   "execution_count": 12,
   "metadata": {},
   "outputs": [
    {
     "data": {
      "text/plain": [
       "<matplotlib.axes._subplots.AxesSubplot at 0x7fd545369550>"
      ]
     },
     "execution_count": 12,
     "metadata": {},
     "output_type": "execute_result"
    },
    {
     "data": {
      "image/png": "[encoded data removed]",
      "text/plain": [
       "<Figure size 432x288 with 1 Axes>"
      ]
     },
     "metadata": {
      "needs_background": "light"
     },
     "output_type": "display_data"
    }
   ],
   "source": [
    "to_key = lambda x: x.lower().replace(\"-\", \"\")\n",
    "\n",
    "get_figs({to_key(k) : chicago_ip.query(\"DBA == '{}'\".format(k)).gps_mm_dist\n",
    "         for k in [\"Comcast\", \"ATT\", \"Sprint\", \"T-Mobile\", \"Verizon\"]}, \n",
    "         save = \"acc_by_carrier\")"
   ]
  },
  {
   "cell_type": "markdown",
   "metadata": {},
   "source": [
    "### Identifying the Outliers"
   ]
  },
  {
   "cell_type": "markdown",
   "metadata": {},
   "source": [
    "MaxMind's default location points to [Cheney Reservoir, Kansas](https://splinternews.com/this-is-the-new-digital-center-of-the-united-states-1793856143).  This seems, in particular, to affect the AT&T points, nearly 18% of which are geocoded there."
   ]
  },
  {
   "cell_type": "code",
   "execution_count": 13,
   "metadata": {},
   "outputs": [
    {
     "data": {
      "text/plain": [
       "mm_lat    37.751\n",
       "mm_lon   -97.822\n",
       "dtype: float64"
      ]
     },
     "execution_count": 13,
     "metadata": {},
     "output_type": "execute_result"
    }
   ],
   "source": [
    "chicago_ip.query(\"(DBA == 'ATT') & (950 < gps_mm_dist) & (gps_mm_dist < 990)\")[[\"mm_lat\", \"mm_lon\"]].median()"
   ]
  },
  {
   "cell_type": "markdown",
   "metadata": {},
   "source": [
    "Pretty much the entire 107.77.173.0 subnet is coded there (does it show up in NYC, too)?  Note that 107.64.0.0/10 is [allocated](https://whois.arin.net/rest/net/NET-107-64-0-0-1/pft?s=107.77.173.0) to AT&T Mobility LLC, whereas the most common _really_ close ones (distance < 1 km) are allocated to AT&T Corp, e.g., [70.235.128.0](https://whois.arin.net/rest/net/NET-70-232-128-0-1/pft?s=70.235.128.0)."
   ]
  },
  {
   "cell_type": "code",
   "execution_count": 14,
   "metadata": {},
   "outputs": [
    {
     "data": {
      "text/plain": [
       "107.77.173.0       511846\n",
       "2600:387:b::         6688\n",
       "107.77.172.0         1509\n",
       "2602:306:bc1c::       885\n",
       "2602:30a:2e78::       603\n",
       "Name: subnet, dtype: int64"
      ]
     },
     "execution_count": 14,
     "metadata": {},
     "output_type": "execute_result"
    }
   ],
   "source": [
    "chicago_ip.query(\"(DBA == 'ATT') & (950 < gps_mm_dist) & (gps_mm_dist < 990)\").subnet.value_counts().head(5)"
   ]
  },
  {
   "cell_type": "code",
   "execution_count": 15,
   "metadata": {},
   "outputs": [
    {
     "data": {
      "text/plain": [
       "107.77.173.44    9283\n",
       "107.77.173.31    9062\n",
       "107.77.173.33    8988\n",
       "107.77.173.62    8903\n",
       "107.77.173.37    8861\n",
       "Name: ip_address, dtype: int64"
      ]
     },
     "execution_count": 15,
     "metadata": {},
     "output_type": "execute_result"
    }
   ],
   "source": [
    "chicago_ip.query(\"(DBA == 'ATT') & (950 < gps_mm_dist) & (gps_mm_dist < 990)\").ip_address.value_counts().head(5)"
   ]
  },
  {
   "cell_type": "code",
   "execution_count": 16,
   "metadata": {},
   "outputs": [
    {
     "data": {
      "text/plain": [
       "70.235.128.0     2292\n",
       "162.233.155.0    1831\n",
       "162.224.229.0    1614\n",
       "162.237.30.0     1571\n",
       "99.145.53.0      1454\n",
       "Name: subnet, dtype: int64"
      ]
     },
     "execution_count": 16,
     "metadata": {},
     "output_type": "execute_result"
    }
   ],
   "source": [
    "chicago_ip.query(\"(DBA == 'ATT') & (gps_mm_dist < 1)\").subnet.value_counts().head(5) ## All AT&T Corp."
   ]
  },
  {
   "cell_type": "markdown",
   "metadata": {},
   "source": [
    "#### Verizon \n",
    "For Verizon, the step-ups are less clear.  There is a big increase between 50 and 100 km, but while there are a few locations with a very large number of points, they do not appear to be particularly special.  For instance, the most common location, at (42.2571, -88.8535) has 30 thousand points and is coded down to the city (Belvidere, IL).  These also do not appear to be issues with the IP addresses registered in the GPS data, which are fairly diverse at that point (i.e., it is not just one user making all the trouble).  I guess that these are just other \"sink\" locations, as show up in the GPS data as well."
   ]
  },
  {
   "cell_type": "code",
   "execution_count": 17,
   "metadata": {},
   "outputs": [
    {
     "data": {
      "text/plain": [
       "(-88.8535, 42.2571)    30612\n",
       "(-88.3781, 42.0305)    28381\n",
       "(-88.1414, 42.1597)    10711\n",
       "Name: mm_loc, dtype: int64"
      ]
     },
     "execution_count": 17,
     "metadata": {},
     "output_type": "execute_result"
    }
   ],
   "source": [
    "chicago_ip.query(\"(DBA == 'Verizon') & (50 < gps_mm_dist) & (gps_mm_dist < 100)\")\\\n",
    "          .mm_loc.apply(lambda x : x.coords[0]).value_counts().head(3)"
   ]
  },
  {
   "cell_type": "code",
   "execution_count": 18,
   "metadata": {},
   "outputs": [
    {
     "data": {
      "text/plain": [
       "174.192.82.120    339\n",
       "174.192.86.227    225\n",
       "174.192.81.98     191\n",
       "174.192.81.89     182\n",
       "174.192.81.147    163\n",
       "Name: ip_address, dtype: int64"
      ]
     },
     "execution_count": 18,
     "metadata": {},
     "output_type": "execute_result"
    }
   ],
   "source": [
    "chicago_ip.query(\"(DBA == 'Verizon') & (mm_lat == 42.2571)\").ip_address.value_counts().head(5)"
   ]
  },
  {
   "cell_type": "code",
   "execution_count": 19,
   "metadata": {},
   "outputs": [
    {
     "data": {
      "text/plain": [
       "0025165e-c5ea-4441-9ed8-0cf08b1c0245    328\n",
       "377b0b02-d55f-4a35-a8b3-2b0d5d0e68c8    294\n",
       "cc32f007-b0e8-4749-ae4e-6ef59bb9f7b1    273\n",
       "65571841-303f-4902-8cf4-1b218277d3c9    175\n",
       "0ecfd3ed-e28d-4e68-8343-32fd0443dfd7    158\n",
       "Name: identifier, dtype: int64"
      ]
     },
     "execution_count": 19,
     "metadata": {},
     "output_type": "execute_result"
    }
   ],
   "source": [
    "chicago_ip.query(\"(DBA == 'Verizon') & (mm_lat == 42.2571)\").identifier.value_counts().head(5)"
   ]
  },
  {
   "cell_type": "markdown",
   "metadata": {},
   "source": [
    "#### T-Mobile\n",
    "There is a large number of points, about 380 km from Chicago, geocoded to Detroit (metro pop 4.3M).  The first of these coordinates is along Detroit's northern edge, far from its \"geographic center.\"  There's another substantial \"rise\" at 560 km from Chicago, corresponding to Minneapolis (metro pop 3.6M).  Indianapolis (≈265 km, 2.0M metro) and St Louis (≈420 km, 2.8M metro) see no notable jumps -- perhaps at least in part relating to their smaller populations (smaller infrastructures, and fewer people travelling there)."
   ]
  },
  {
   "cell_type": "code",
   "execution_count": 20,
   "metadata": {},
   "outputs": [
    {
     "data": {
      "text/plain": [
       "(-83.1522, 42.4257)    41566\n",
       "(-83.1329, 42.3673)    24817\n",
       "(-83.2514, 42.4261)      758\n",
       "Name: mm_loc, dtype: int64"
      ]
     },
     "execution_count": 20,
     "metadata": {},
     "output_type": "execute_result"
    }
   ],
   "source": [
    "chicago_ip.query(\"(DBA == 'T-Mobile') & (360 < gps_mm_dist) & (gps_mm_dist < 400)\")\\\n",
    "          .mm_loc.apply(lambda x : x.coords[0]).value_counts().head(3)"
   ]
  },
  {
   "cell_type": "code",
   "execution_count": 21,
   "metadata": {},
   "outputs": [
    {
     "data": {
      "text/plain": [
       "(-93.2188, 44.9402)    67064\n",
       "(-85.1321, 37.8395)     2691\n",
       "(-81.5746, 41.4781)     1002\n",
       "Name: mm_loc, dtype: int64"
      ]
     },
     "execution_count": 21,
     "metadata": {},
     "output_type": "execute_result"
    }
   ],
   "source": [
    "chicago_ip.query(\"(DBA == 'T-Mobile') & (500 < gps_mm_dist) & (gps_mm_dist < 600)\")\\\n",
    "          .mm_loc.apply(lambda x : x.coords[0]).value_counts().head(3)"
   ]
  },
  {
   "cell_type": "markdown",
   "metadata": {},
   "source": [
    "Similarly, if we keep to Chicago, the T-Mobile points are geolocated to just a few locations"
   ]
  },
  {
   "cell_type": "code",
   "execution_count": 22,
   "metadata": {},
   "outputs": [
    {
     "data": {
      "text/plain": [
       "(-87.7108, 41.9984)    0.657451\n",
       "(-87.6736, 41.8502)    0.313198\n",
       "(-87.7613, 41.8883)    0.003866\n",
       "Name: mm_loc, dtype: float64"
      ]
     },
     "execution_count": 22,
     "metadata": {},
     "output_type": "execute_result"
    }
   ],
   "source": [
    "tmobile_chicago = chicago_ip.query(\"(DBA == 'T-Mobile') & (gps_mm_dist < 50)\")\n",
    "tmobile_chicago.mm_loc.apply(lambda x : x.coords[0]).value_counts().head(3) / tmobile_chicago.shape[0]"
   ]
  },
  {
   "cell_type": "markdown",
   "metadata": {},
   "source": [
    "### MaxMind Claimed Accuracy"
   ]
  },
  {
   "cell_type": "code",
   "execution_count": 23,
   "metadata": {},
   "outputs": [
    {
     "data": {
      "text/plain": [
       "1.0       1187904\n",
       "5.0       2419421\n",
       "10.0       219589\n",
       "20.0       165347\n",
       "50.0       871074\n",
       "100.0     1353295\n",
       "200.0     1889398\n",
       "500.0     6216291\n",
       "1000.0     689648\n",
       "Name: mm_acc, dtype: int64"
      ]
     },
     "execution_count": 23,
     "metadata": {},
     "output_type": "execute_result"
    }
   ],
   "source": [
    "chicago_ip.mm_acc.value_counts().sort_index()"
   ]
  },
  {
   "cell_type": "code",
   "execution_count": 24,
   "metadata": {},
   "outputs": [
    {
     "data": {
      "text/plain": [
       "<matplotlib.axes._subplots.AxesSubplot at 0x7fd545369210>"
      ]
     },
     "execution_count": 24,
     "metadata": {},
     "output_type": "execute_result"
    },
    {
     "data": {
      "image/png": "[encoded data removed]",
      "text/plain": [
       "<Figure size 432x288 with 1 Axes>"
      ]
     },
     "metadata": {
      "needs_background": "light"
     },
     "output_type": "display_data"
    }
   ],
   "source": [
    "get_figs({\"Acc. = {:d} km\".format(k) : chicago_ip.query(\"mm_acc == {}\".format(k)).gps_mm_dist\n",
    "          for k in [1, 5, 10, 20, 50, 100, 200, 500]}, \n",
    "         cmap = \"viridis\", save = \"acc_by_mm_acc\")"
   ]
  },
  {
   "cell_type": "markdown",
   "metadata": {},
   "source": [
    "They are clearly aware of the different structures, by carrier."
   ]
  },
  {
   "cell_type": "code",
   "execution_count": 25,
   "metadata": {},
   "outputs": [
    {
     "data": {
      "text/html": [
       "<div>\n",
       "<style scoped>\n",
       "    .dataframe tbody tr th:only-of-type {\n",
       "        vertical-align: middle;\n",
       "    }\n",
       "\n",
       "    .dataframe tbody tr th {\n",
       "        vertical-align: top;\n",
       "    }\n",
       "\n",
       "    .dataframe thead th {\n",
       "        text-align: right;\n",
       "    }\n",
       "</style>\n",
       "<table border=\"1\" class=\"dataframe\">\n",
       "  <thead>\n",
       "    <tr style=\"text-align: right;\">\n",
       "      <th>mm_acc</th>\n",
       "      <th>1.0</th>\n",
       "      <th>5.0</th>\n",
       "      <th>10.0</th>\n",
       "      <th>20.0</th>\n",
       "      <th>50.0</th>\n",
       "      <th>100.0</th>\n",
       "      <th>200.0</th>\n",
       "      <th>500.0</th>\n",
       "      <th>1000.0</th>\n",
       "    </tr>\n",
       "    <tr>\n",
       "      <th>DBA</th>\n",
       "      <th></th>\n",
       "      <th></th>\n",
       "      <th></th>\n",
       "      <th></th>\n",
       "      <th></th>\n",
       "      <th></th>\n",
       "      <th></th>\n",
       "      <th></th>\n",
       "      <th></th>\n",
       "    </tr>\n",
       "  </thead>\n",
       "  <tbody>\n",
       "    <tr>\n",
       "      <th>ATT</th>\n",
       "      <td>0.12</td>\n",
       "      <td>0.20</td>\n",
       "      <td>0.02</td>\n",
       "      <td>0.01</td>\n",
       "      <td>0.01</td>\n",
       "      <td>0.01</td>\n",
       "      <td>0.00</td>\n",
       "      <td>0.47</td>\n",
       "      <td>0.18</td>\n",
       "    </tr>\n",
       "    <tr>\n",
       "      <th>Comcast</th>\n",
       "      <td>0.24</td>\n",
       "      <td>0.61</td>\n",
       "      <td>0.05</td>\n",
       "      <td>0.02</td>\n",
       "      <td>0.02</td>\n",
       "      <td>0.06</td>\n",
       "      <td>0.00</td>\n",
       "      <td>0.00</td>\n",
       "      <td>0.01</td>\n",
       "    </tr>\n",
       "    <tr>\n",
       "      <th>Sprint</th>\n",
       "      <td>0.00</td>\n",
       "      <td>0.00</td>\n",
       "      <td>0.00</td>\n",
       "      <td>0.00</td>\n",
       "      <td>0.24</td>\n",
       "      <td>0.01</td>\n",
       "      <td>0.60</td>\n",
       "      <td>0.15</td>\n",
       "      <td>0.00</td>\n",
       "    </tr>\n",
       "    <tr>\n",
       "      <th>T-Mobile</th>\n",
       "      <td>0.00</td>\n",
       "      <td>0.00</td>\n",
       "      <td>0.00</td>\n",
       "      <td>0.01</td>\n",
       "      <td>0.04</td>\n",
       "      <td>0.01</td>\n",
       "      <td>0.01</td>\n",
       "      <td>0.93</td>\n",
       "      <td>0.00</td>\n",
       "    </tr>\n",
       "    <tr>\n",
       "      <th>Verizon</th>\n",
       "      <td>0.00</td>\n",
       "      <td>0.00</td>\n",
       "      <td>0.00</td>\n",
       "      <td>0.00</td>\n",
       "      <td>0.03</td>\n",
       "      <td>0.66</td>\n",
       "      <td>0.27</td>\n",
       "      <td>0.03</td>\n",
       "      <td>0.00</td>\n",
       "    </tr>\n",
       "  </tbody>\n",
       "</table>\n",
       "</div>"
      ],
      "text/plain": [
       "mm_acc    1.0     5.0     10.0    20.0    50.0    100.0   200.0   500.0   \\\n",
       "DBA                                                                        \n",
       "ATT         0.12    0.20    0.02    0.01    0.01    0.01    0.00    0.47   \n",
       "Comcast     0.24    0.61    0.05    0.02    0.02    0.06    0.00    0.00   \n",
       "Sprint      0.00    0.00    0.00    0.00    0.24    0.01    0.60    0.15   \n",
       "T-Mobile    0.00    0.00    0.00    0.01    0.04    0.01    0.01    0.93   \n",
       "Verizon     0.00    0.00    0.00    0.00    0.03    0.66    0.27    0.03   \n",
       "\n",
       "mm_acc    1000.0  \n",
       "DBA               \n",
       "ATT         0.18  \n",
       "Comcast     0.01  \n",
       "Sprint      0.00  \n",
       "T-Mobile    0.00  \n",
       "Verizon     0.00  "
      ]
     },
     "execution_count": 25,
     "metadata": {},
     "output_type": "execute_result"
    }
   ],
   "source": [
    "big5 = [\"T-Mobile\", \"ATT\", \"Comcast\", \"Sprint\", \"Verizon\"]\n",
    "\n",
    "mm_acc_cuts = chicago_ip.query(\"DBA in @big5\").groupby([\"DBA\", \"mm_acc\"]).mm_acc.count() / \\\n",
    "              chicago_ip.groupby(\"DBA\").mm_acc.count()\n",
    "\n",
    "mm_acc_cuts.unstack().fillna(0).round(2)"
   ]
  },
  {
   "cell_type": "markdown",
   "metadata": {},
   "source": [
    "### MaxMind vs IP2Location, by Carrier"
   ]
  },
  {
   "cell_type": "code",
   "execution_count": 26,
   "metadata": {},
   "outputs": [
    {
     "data": {
      "image/png": "[encoded data removed]",
      "text/plain": [
       "<Figure size 792x216 with 3 Axes>"
      ]
     },
     "metadata": {
      "needs_background": "light"
     },
     "output_type": "display_data"
    }
   ],
   "source": [
    "fig, ax = plt.subplots(1, 3, figsize = (11, 3), sharey = True)\n",
    "\n",
    "for i, c in enumerate([\"Comcast\", \"T-Mobile\", \"Verizon\"]):\n",
    "    get_figs({\"mm\" : chicago_ip.query(\"DBA == '{}'\".format(c)).gps_mm_dist, \n",
    "              \"ip\" : chicago_ip.query(\"DBA == '{}'\".format(c)).gps_ip_dist}, \n",
    "             ax = ax[i], leg = False)\n",
    "    \n",
    "    ax[i].set_title(c)\n",
    "    if i: ax[i].set_ylabel(\"\")\n",
    "    \n",
    "leg3_args = {\"bbox_to_anchor\" : (0.56, 0.07), \"loc\" : 'lower left', \"frameon\" : True}\n",
    "\n",
    "ax[2].legend(**leg3_args)\n",
    "\n",
    "fig.savefig(\"figs/acc_by_carrier_facet.pdf\")"
   ]
  },
  {
   "cell_type": "markdown",
   "metadata": {},
   "source": [
    "### A Typology of Clusters from the Geographic Extent"
   ]
  },
  {
   "cell_type": "code",
   "execution_count": 27,
   "metadata": {},
   "outputs": [
    {
     "data": {
      "text/plain": [
       "gps_mm_dist     81.591110\n",
       "gps_ip_dist    174.182252\n",
       "dtype: float64"
      ]
     },
     "execution_count": 27,
     "metadata": {},
     "output_type": "execute_result"
    }
   ],
   "source": [
    "chicago_ip.dropna()[[\"gps_mm_dist\", \"gps_ip_dist\"]].mean()"
   ]
  },
  {
   "cell_type": "code",
   "execution_count": 28,
   "metadata": {},
   "outputs": [
    {
     "data": {
      "text/plain": [
       "gps_mm_dist     46.287278\n",
       "gps_ip_dist    237.443932\n",
       "dtype: float64"
      ]
     },
     "execution_count": 28,
     "metadata": {},
     "output_type": "execute_result"
    }
   ],
   "source": [
    "chicago_ip.query(\"DBA == 'T-Mobile'\")[[\"gps_mm_dist\", \"gps_ip_dist\"]].mean()"
   ]
  },
  {
   "cell_type": "code",
   "execution_count": 29,
   "metadata": {},
   "outputs": [
    {
     "data": {
      "text/plain": [
       "gps_mm_dist    16.835730\n",
       "gps_ip_dist    80.885994\n",
       "dtype: float64"
      ]
     },
     "execution_count": 29,
     "metadata": {},
     "output_type": "execute_result"
    }
   ],
   "source": [
    "chicago_ip.query(\"DBA == 'Comcast'\")[[\"gps_mm_dist\", \"gps_ip_dist\"]].mean()"
   ]
  },
  {
   "cell_type": "markdown",
   "metadata": {},
   "source": [
    "But if we choose some of the geographically localized clusters from Comcast -- with multiple addresses per subnet! -- the accuracies are way, way better."
   ]
  },
  {
   "cell_type": "code",
   "execution_count": 30,
   "metadata": {},
   "outputs": [
    {
     "data": {
      "text/html": [
       "<div>\n",
       "<style scoped>\n",
       "    .dataframe tbody tr th:only-of-type {\n",
       "        vertical-align: middle;\n",
       "    }\n",
       "\n",
       "    .dataframe tbody tr th {\n",
       "        vertical-align: top;\n",
       "    }\n",
       "\n",
       "    .dataframe thead th {\n",
       "        text-align: right;\n",
       "    }\n",
       "</style>\n",
       "<table border=\"1\" class=\"dataframe\">\n",
       "  <thead>\n",
       "    <tr style=\"text-align: right;\">\n",
       "      <th></th>\n",
       "      <th>gps_mm_dist</th>\n",
       "      <th>gps_ip_dist</th>\n",
       "    </tr>\n",
       "    <tr>\n",
       "      <th>subnet</th>\n",
       "      <th></th>\n",
       "      <th></th>\n",
       "    </tr>\n",
       "  </thead>\n",
       "  <tbody>\n",
       "    <tr>\n",
       "      <th>24.1.164.0</th>\n",
       "      <td>5.055042</td>\n",
       "      <td>39.773690</td>\n",
       "    </tr>\n",
       "    <tr>\n",
       "      <th>24.1.42.0</th>\n",
       "      <td>5.025674</td>\n",
       "      <td>40.221427</td>\n",
       "    </tr>\n",
       "    <tr>\n",
       "      <th>24.14.202.0</th>\n",
       "      <td>5.438732</td>\n",
       "      <td>6.512521</td>\n",
       "    </tr>\n",
       "    <tr>\n",
       "      <th>50.200.11.0</th>\n",
       "      <td>3.518607</td>\n",
       "      <td>15.670083</td>\n",
       "    </tr>\n",
       "    <tr>\n",
       "      <th>67.175.34.0</th>\n",
       "      <td>3.589099</td>\n",
       "      <td>5.256208</td>\n",
       "    </tr>\n",
       "    <tr>\n",
       "      <th>73.209.252.0</th>\n",
       "      <td>4.809835</td>\n",
       "      <td>14.851489</td>\n",
       "    </tr>\n",
       "    <tr>\n",
       "      <th>76.16.225.0</th>\n",
       "      <td>4.197543</td>\n",
       "      <td>35.773340</td>\n",
       "    </tr>\n",
       "    <tr>\n",
       "      <th>98.206.197.0</th>\n",
       "      <td>4.607351</td>\n",
       "      <td>15.841912</td>\n",
       "    </tr>\n",
       "    <tr>\n",
       "      <th>98.222.252.0</th>\n",
       "      <td>2.615974</td>\n",
       "      <td>27.405916</td>\n",
       "    </tr>\n",
       "    <tr>\n",
       "      <th>98.227.229.0</th>\n",
       "      <td>3.110816</td>\n",
       "      <td>11.102389</td>\n",
       "    </tr>\n",
       "  </tbody>\n",
       "</table>\n",
       "</div>"
      ],
      "text/plain": [
       "              gps_mm_dist  gps_ip_dist\n",
       "subnet                                \n",
       "24.1.164.0       5.055042    39.773690\n",
       "24.1.42.0        5.025674    40.221427\n",
       "24.14.202.0      5.438732     6.512521\n",
       "50.200.11.0      3.518607    15.670083\n",
       "67.175.34.0      3.589099     5.256208\n",
       "73.209.252.0     4.809835    14.851489\n",
       "76.16.225.0      4.197543    35.773340\n",
       "98.206.197.0     4.607351    15.841912\n",
       "98.222.252.0     2.615974    27.405916\n",
       "98.227.229.0     3.110816    11.102389"
      ]
     },
     "execution_count": 30,
     "metadata": {},
     "output_type": "execute_result"
    }
   ],
   "source": [
    "localized_subnets = [\"98.222.252.0\", \"98.227.229.0\", \"73.209.252.0\", \"50.200.11.0\", \"76.16.225.0\", \n",
    "                     \"98.206.197.0\", \"24.14.202.0\",  \"24.1.42.0\",    \"24.1.164.0\", \"67.175.34.0\"]\n",
    "\n",
    "chicago_ip[\"localized_comcast\"] = chicago_ip.subnet.isin(localized_subnets)\n",
    "chicago_ip.query(\"localized_comcast\").groupby(\"subnet\")[[\"gps_mm_dist\", \"gps_ip_dist\"]].mean()"
   ]
  },
  {
   "cell_type": "markdown",
   "metadata": {},
   "source": [
    "### What about Unacast as a data source?"
   ]
  },
  {
   "cell_type": "markdown",
   "metadata": {},
   "source": [
    "What fraction are RIPE, LACNIC, APNIC, AfriNIC?  Really low...."
   ]
  },
  {
   "cell_type": "code",
   "execution_count": 31,
   "metadata": {},
   "outputs": [
    {
     "data": {
      "text/plain": [
       "DBA\n",
       "AFRINIC    0.000060\n",
       "APNIC      0.000107\n",
       "LACNIC     0.000256\n",
       "RIPE       0.000616\n",
       "Name: DBA, dtype: float64"
      ]
     },
     "execution_count": 31,
     "metadata": {},
     "output_type": "execute_result"
    }
   ],
   "source": [
    "foreign_nic = [\"RIPE\", \"AFRINIC\", \"APNIC\", \"LACNIC\"]\n",
    "\n",
    "chicago_ip.query(\"DBA in @foreign_nic\").groupby(\"DBA\").DBA.count() / chicago_ip.DBA.count()"
   ]
  },
  {
   "cell_type": "markdown",
   "metadata": {},
   "source": [
    "However, there is a modest fraction that from local networks, loopback etc -- "
   ]
  },
  {
   "cell_type": "code",
   "execution_count": 32,
   "metadata": {},
   "outputs": [
    {
     "data": {
      "text/plain": [
       "0.009469749512491007"
      ]
     },
     "execution_count": 32,
     "metadata": {},
     "output_type": "execute_result"
    }
   ],
   "source": [
    "chicago_ip.ip_address.str.startswith(\"10.\").mean()"
   ]
  },
  {
   "cell_type": "code",
   "execution_count": 33,
   "metadata": {},
   "outputs": [
    {
     "data": {
      "text/plain": [
       "0.040385472940493015"
      ]
     },
     "execution_count": 33,
     "metadata": {},
     "output_type": "execute_result"
    }
   ],
   "source": [
    "chicago_ip.DBA.str.startswith(\"IANA\").mean()"
   ]
  },
  {
   "cell_type": "markdown",
   "metadata": {},
   "source": [
    "Do we do any better on Comcast accuracies by restricting ourselves to night pings with long durations, etc.?"
   ]
  },
  {
   "cell_type": "code",
   "execution_count": 34,
   "metadata": {},
   "outputs": [],
   "source": [
    "localized_comcast = chicago_ip.query(\"localized_comcast\")"
   ]
  },
  {
   "cell_type": "code",
   "execution_count": 35,
   "metadata": {},
   "outputs": [
    {
     "data": {
      "text/plain": [
       "TRAVEL                  3865947\n",
       "AREA_DWELL              3861169\n",
       "SHORT_AREA_DWELL        2736690\n",
       "LONG_AREA_DWELL         2322802\n",
       "POTENTIAL_AREA_DWELL    1962445\n",
       "PING                     889592\n",
       "LARGE_VARIANCE             4753\n",
       "MOVING                      362\n",
       "SPLIT                        54\n",
       "Name: classification, dtype: int64"
      ]
     },
     "execution_count": 35,
     "metadata": {},
     "output_type": "execute_result"
    }
   ],
   "source": [
    "chicago_ip.classification.value_counts()"
   ]
  },
  {
   "cell_type": "code",
   "execution_count": 36,
   "metadata": {},
   "outputs": [
    {
     "data": {
      "text/plain": [
       "classification\n",
       "AREA_DWELL              3882\n",
       "LONG_AREA_DWELL         2267\n",
       "PING                     526\n",
       "POTENTIAL_AREA_DWELL    1360\n",
       "SHORT_AREA_DWELL         737\n",
       "TRAVEL                   814\n",
       "Name: classification, dtype: int64"
      ]
     },
     "execution_count": 36,
     "metadata": {},
     "output_type": "execute_result"
    }
   ],
   "source": [
    "localized_comcast.groupby(\"classification\").classification.count()"
   ]
  },
  {
   "cell_type": "code",
   "execution_count": 37,
   "metadata": {},
   "outputs": [
    {
     "data": {
      "text/plain": [
       "gps_mm_dist     4.053969\n",
       "gps_ip_dist    21.740885\n",
       "dtype: float64"
      ]
     },
     "execution_count": 37,
     "metadata": {},
     "output_type": "execute_result"
    }
   ],
   "source": [
    "localized_comcast[[\"gps_mm_dist\", \"gps_ip_dist\"]].mean()"
   ]
  },
  {
   "cell_type": "code",
   "execution_count": 38,
   "metadata": {},
   "outputs": [
    {
     "data": {
      "text/plain": [
       "gps_mm_dist     3.987938\n",
       "gps_ip_dist    21.859261\n",
       "dtype: float64"
      ]
     },
     "execution_count": 38,
     "metadata": {},
     "output_type": "execute_result"
    }
   ],
   "source": [
    "localized_comcast.query(\"classification != 'TRAVEL'\")[[\"gps_mm_dist\", \"gps_ip_dist\"]].mean()"
   ]
  },
  {
   "cell_type": "code",
   "execution_count": 39,
   "metadata": {},
   "outputs": [
    {
     "data": {
      "text/plain": [
       "gps_mm_dist     4.424768\n",
       "gps_ip_dist    23.253168\n",
       "dtype: float64"
      ]
     },
     "execution_count": 39,
     "metadata": {},
     "output_type": "execute_result"
    }
   ],
   "source": [
    "dwell_types = [\"LONG_AREA_DWELL\", \"SHORT_AREA_DWELL\"]\n",
    "\n",
    "localized_comcast.query(\"classification in @dwell_types\")[[\"gps_mm_dist\", \"gps_ip_dist\"]].mean()"
   ]
  },
  {
   "cell_type": "code",
   "execution_count": 40,
   "metadata": {},
   "outputs": [
    {
     "data": {
      "text/plain": [
       "gps_mm_dist     4.729671\n",
       "gps_ip_dist    21.622395\n",
       "dtype: float64"
      ]
     },
     "execution_count": 40,
     "metadata": {},
     "output_type": "execute_result"
    }
   ],
   "source": [
    "localized_comcast.query(\"classification == 'LONG_AREA_DWELL'\")[[\"gps_mm_dist\", \"gps_ip_dist\"]].mean()"
   ]
  },
  {
   "cell_type": "code",
   "execution_count": 41,
   "metadata": {},
   "outputs": [
    {
     "data": {
      "text/plain": [
       "gps_mm_dist     5.307938\n",
       "gps_ip_dist    21.023540\n",
       "dtype: float64"
      ]
     },
     "execution_count": 41,
     "metadata": {},
     "output_type": "execute_result"
    }
   ],
   "source": [
    "localized_comcast.query(\"night > 0\")[[\"gps_mm_dist\", \"gps_ip_dist\"]].mean()"
   ]
  },
  {
   "cell_type": "markdown",
   "metadata": {},
   "source": [
    "Now what about with things night-time or home activity?"
   ]
  },
  {
   "cell_type": "code",
   "execution_count": 42,
   "metadata": {},
   "outputs": [
    {
     "data": {
      "text/html": [
       "<div>\n",
       "<style scoped>\n",
       "    .dataframe tbody tr th:only-of-type {\n",
       "        vertical-align: middle;\n",
       "    }\n",
       "\n",
       "    .dataframe tbody tr th {\n",
       "        vertical-align: top;\n",
       "    }\n",
       "\n",
       "    .dataframe thead th {\n",
       "        text-align: right;\n",
       "    }\n",
       "</style>\n",
       "<table border=\"1\" class=\"dataframe\">\n",
       "  <thead>\n",
       "    <tr style=\"text-align: right;\">\n",
       "      <th></th>\n",
       "      <th>localized_comcast</th>\n",
       "      <th>night</th>\n",
       "      <th>out_of_home</th>\n",
       "    </tr>\n",
       "  </thead>\n",
       "  <tbody>\n",
       "    <tr>\n",
       "      <th>localized_comcast</th>\n",
       "      <td>1.000000</td>\n",
       "      <td>-0.000869</td>\n",
       "      <td>-0.003488</td>\n",
       "    </tr>\n",
       "    <tr>\n",
       "      <th>night</th>\n",
       "      <td>-0.000869</td>\n",
       "      <td>1.000000</td>\n",
       "      <td>-0.306792</td>\n",
       "    </tr>\n",
       "    <tr>\n",
       "      <th>out_of_home</th>\n",
       "      <td>-0.003488</td>\n",
       "      <td>-0.306792</td>\n",
       "      <td>1.000000</td>\n",
       "    </tr>\n",
       "  </tbody>\n",
       "</table>\n",
       "</div>"
      ],
      "text/plain": [
       "                   localized_comcast     night  out_of_home\n",
       "localized_comcast           1.000000 -0.000869    -0.003488\n",
       "night                      -0.000869  1.000000    -0.306792\n",
       "out_of_home                -0.003488 -0.306792     1.000000"
      ]
     },
     "execution_count": 42,
     "metadata": {},
     "output_type": "execute_result"
    }
   ],
   "source": [
    "chicago_ip.query(\"DBA == 'Comcast'\")[[\"localized_comcast\", \"night\", \"out_of_home\"]].corr()"
   ]
  },
  {
   "cell_type": "code",
   "execution_count": 43,
   "metadata": {},
   "outputs": [
    {
     "data": {
      "text/plain": [
       "gps_mm_dist     5.410889\n",
       "gps_ip_dist    21.153913\n",
       "dtype: float64"
      ]
     },
     "execution_count": 43,
     "metadata": {},
     "output_type": "execute_result"
    }
   ],
   "source": [
    "localized_comcast.query(\"(classification == 'LONG_AREA_DWELL') & (out_of_home == 0) & (night > 0)\")\\\n",
    "          [[\"gps_mm_dist\", \"gps_ip_dist\"]].mean()"
   ]
  },
  {
   "cell_type": "markdown",
   "metadata": {},
   "source": [
    "Short dwells and single pings are the best-localized WRT the MaxMind data -- these have less ambiguity in which IP addresss is associated to the cluster."
   ]
  },
  {
   "cell_type": "code",
   "execution_count": 44,
   "metadata": {},
   "outputs": [
    {
     "data": {
      "text/html": [
       "<div>\n",
       "<style scoped>\n",
       "    .dataframe tbody tr th:only-of-type {\n",
       "        vertical-align: middle;\n",
       "    }\n",
       "\n",
       "    .dataframe tbody tr th {\n",
       "        vertical-align: top;\n",
       "    }\n",
       "\n",
       "    .dataframe thead th {\n",
       "        text-align: right;\n",
       "    }\n",
       "</style>\n",
       "<table border=\"1\" class=\"dataframe\">\n",
       "  <thead>\n",
       "    <tr style=\"text-align: right;\">\n",
       "      <th></th>\n",
       "      <th>gps_mm_dist</th>\n",
       "      <th>gps_ip_dist</th>\n",
       "    </tr>\n",
       "    <tr>\n",
       "      <th>classification</th>\n",
       "      <th></th>\n",
       "      <th></th>\n",
       "    </tr>\n",
       "  </thead>\n",
       "  <tbody>\n",
       "    <tr>\n",
       "      <th>Area Dwell</th>\n",
       "      <td>3.37</td>\n",
       "      <td>20.78</td>\n",
       "    </tr>\n",
       "    <tr>\n",
       "      <th>Short Area Dwell</th>\n",
       "      <td>3.49</td>\n",
       "      <td>28.27</td>\n",
       "    </tr>\n",
       "    <tr>\n",
       "      <th>Ping</th>\n",
       "      <td>4.11</td>\n",
       "      <td>22.71</td>\n",
       "    </tr>\n",
       "    <tr>\n",
       "      <th>Long Area Dwell</th>\n",
       "      <td>4.73</td>\n",
       "      <td>21.62</td>\n",
       "    </tr>\n",
       "    <tr>\n",
       "      <th>Potential Area Dwell</th>\n",
       "      <td>4.75</td>\n",
       "      <td>21.53</td>\n",
       "    </tr>\n",
       "    <tr>\n",
       "      <th>Travel</th>\n",
       "      <td>4.77</td>\n",
       "      <td>20.47</td>\n",
       "    </tr>\n",
       "  </tbody>\n",
       "</table>\n",
       "</div>"
      ],
      "text/plain": [
       "                      gps_mm_dist  gps_ip_dist\n",
       "classification                                \n",
       "Area Dwell                   3.37        20.78\n",
       "Short Area Dwell             3.49        28.27\n",
       "Ping                         4.11        22.71\n",
       "Long Area Dwell              4.73        21.62\n",
       "Potential Area Dwell         4.75        21.53\n",
       "Travel                       4.77        20.47"
      ]
     },
     "execution_count": 44,
     "metadata": {},
     "output_type": "execute_result"
    }
   ],
   "source": [
    "accuracy_by_class = chicago_ip.query(\"localized_comcast\").groupby(\"classification\")\\\n",
    "                              [[\"gps_mm_dist\", \"gps_ip_dist\"]].mean()\n",
    "\n",
    "accuracy_by_class = accuracy_by_class.round(2).sort_values(\"gps_mm_dist\")\n",
    "\n",
    "accuracy_by_class.index = accuracy_by_class.index.str.title().str.replace(\"_\", \" \")\n",
    "accuracy_by_class"
   ]
  },
  {
   "cell_type": "markdown",
   "metadata": {},
   "source": [
    "### To-do\n",
    "* Comparison of Chicago with NYC (prep for LA, WV) -- **refactor the code**.\n",
    "* Distance scale (diameter or √A) of /24, CIDR, or AS (after 90% of nearest?)\n",
    "* Compare paid versions of MaxMind ([\\$48 / month](https://www.maxmind.com/en/geoip2-city) for North America) and IP2Location ([\\$349 / year](https://www.ip2location.com/buy-online) for DB5... why anyone would pay another \\\\$150 for the ISP lookup is nonsense!  possibly interesting is their NetSpeed -- cable/fiber/mobile/dial-up -- but unlikely reliable and pretty expensive -- \\\\$1500+)."
   ]
  },
  {
   "cell_type": "code",
   "execution_count": null,
   "metadata": {},
   "outputs": [],
   "source": []
  }
 ],
 "metadata": {
  "anaconda-cloud": {},
  "kernelspec": {
   "display_name": "Python 3",
   "language": "python",
   "name": "python3"
  },
  "language_info": {
   "codemirror_mode": {
    "name": "ipython",
    "version": 3
   },
   "file_extension": ".py",
   "mimetype": "text/x-python",
   "name": "python",
   "nbconvert_exporter": "python",
   "pygments_lexer": "ipython3",
   "version": "3.7.4"
  }
 },
 "nbformat": 4,
 "nbformat_minor": 2
}
