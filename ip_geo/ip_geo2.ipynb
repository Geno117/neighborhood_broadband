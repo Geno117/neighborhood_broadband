{
 "cells": [
  {
   "cell_type": "code",
   "execution_count": 1,
   "metadata": {
    "collapsed": false,
    "scrolled": true
   },
   "outputs": [],
   "source": [
    "import os\n",
    "import pandas as pd\n",
    "\n",
    "from cidr import *\n",
    "\n",
    "from tqdm import tqdm\n",
    "tqdm.pandas()"
   ]
  },
  {
   "cell_type": "code",
   "execution_count": 2,
   "metadata": {
    "collapsed": true
   },
   "outputs": [],
   "source": [
    "chicago = gpd.read_file(\"chicago.geojson\").to_crs(epsg = 3528)\n",
    "chicago_shape = chicago.iloc[0].geometry"
   ]
  },
  {
   "cell_type": "code",
   "execution_count": 8,
   "metadata": {
    "collapsed": false
   },
   "outputs": [
    {
     "name": "stdout",
     "output_type": "stream",
     "text": [
      "0 1 2 3 4 5 6 7 8 9 a b c d e f "
     ]
    }
   ],
   "source": [
    "file_template = \"/media/jsaxon/brobdingnag/projects/corona/data/chicago_2020_{}.csv.gz\"\n",
    "\n",
    "dfs = []\n",
    "\n",
    "for h in \"0123456789abcdef\":\n",
    "    \n",
    "    print(h, end = \" \")\n",
    "    dfs.append(pd.read_csv(file_template.format(h), \n",
    "                           usecols = [\"identifier\", \"duration\", \"bump_count\", \"classification\", \n",
    "                                      \"ip_address\", \"x\", \"y\", \"geoid\", \"out_of_home\", \"night\"],\n",
    "                           low_memory = False)\\\n",
    "                 .query(\"~ip_address.isnull()\", engine='python'))\n",
    "    \n",
    "df = pd.concat(dfs).reset_index(drop = True)\n",
    "\n",
    "df[\"subnet\"] = df.ip_address.apply(subnet)"
   ]
  },
  {
   "cell_type": "code",
   "execution_count": null,
   "metadata": {
    "collapsed": true
   },
   "outputs": [],
   "source": []
  },
  {
   "cell_type": "code",
   "execution_count": null,
   "metadata": {
    "collapsed": false
   },
   "outputs": [],
   "source": [
    "df.shape[0], df.memory_usage().sum() / 1e9"
   ]
  },
  {
   "cell_type": "code",
   "execution_count": null,
   "metadata": {
    "collapsed": true
   },
   "outputs": [],
   "source": [
    "subnets = pd.read_csv(\"chicago_subnets.csv.bz2\").merge(cidr_df[[\"CIDR\", \"DBA\"]])"
   ]
  },
  {
   "cell_type": "code",
   "execution_count": null,
   "metadata": {
    "collapsed": true
   },
   "outputs": [],
   "source": [
    "df = df.merge(subnets)"
   ]
  },
  {
   "cell_type": "code",
   "execution_count": null,
   "metadata": {
    "collapsed": true
   },
   "outputs": [],
   "source": [
    "def get_provider(dba, minID = 50):\n",
    "\n",
    "    provider = df.query(\"(DBA == '{}') & (classification != 'TRAVEL')\".format(dba))\n",
    "\n",
    "    provider_geo = gpd.GeoSeries([Point(xy) for xy in provider[[\"x\", \"y\"]].values],\n",
    "                                crs = from_epsg(3528), index = provider.index)\n",
    "\n",
    "    provider = gpd.GeoDataFrame(data = provider, \n",
    "                                geometry = provider_geo, \n",
    "                                crs = provider_geo.crs)\n",
    "\n",
    "    provider_subnets = provider.groupby([\"subnet\", \"identifier\"])\\\n",
    "                               [[\"x\", \"y\"]].mean().reset_index()\n",
    "\n",
    "    provider_subnets_geo = gpd.GeoSeries([Point(xy) for xy in \n",
    "                                          provider_subnets[[\"x\", \"y\"]].values],\n",
    "                                        crs = from_epsg(3528), \n",
    "                                        index = provider_subnets.index)\n",
    "\n",
    "    provider_subnets = gpd.GeoDataFrame(data = provider_subnets, \n",
    "                                        geometry = provider_subnets_geo, \n",
    "                                        crs = provider_subnets_geo.crs)\n",
    "    \n",
    "    subnets_N = provider_subnets.groupby(\"subnet\").identifier.count()\n",
    "    subnets_N = subnets_N[subnets_N >= minID].copy().sort_values(ascending = False)\n",
    "    high_N = list(subnets_N.index)\n",
    "\n",
    "    return provider.query(\"subnet in @high_N\")\n",
    "    "
   ]
  },
  {
   "cell_type": "code",
   "execution_count": null,
   "metadata": {
    "collapsed": true
   },
   "outputs": [],
   "source": [
    "def plot_subnets(data, label, pdf = False):\n",
    "    \n",
    "    os.makedirs(\"figs/{}\".format(label), exist_ok = True)\n",
    "\n",
    "    chicago_bounds = chicago.buffer(10000).bounds.iloc[0].to_dict()\n",
    "    \n",
    "    for net in tqdm(data.subnet.value_counts().index):\n",
    "\n",
    "        fig, ax = plt.subplots(figsize = (5, 5))\n",
    "\n",
    "        chicago.boundary.plot(lw = 1, color = \"b\", ax = ax)\n",
    "\n",
    "        SN = data.query(\"(subnet == '{}')\".format(net)).copy()\n",
    "\n",
    "        if SN.ip_address.unique().shape[0] <= 15:\n",
    "            SN.plot(column = \"ip_address\", cmap = \"nipy_spectral\", \n",
    "                    markersize = 2, linewidth = 0, \n",
    "                    alpha = max(0.1, min(1, 1000 /SN.shape[0])), ax = ax, legend = True, \n",
    "                    legend_kwds = {\"fontsize\" : 8, \"loc\" : \"lower left\", \n",
    "                                   \"bbox_to_anchor\" : (0, 0.025)})\n",
    "\n",
    "        else:\n",
    "            SN.plot(color = \"red\", markersize = 2, linewidth = 0, \n",
    "                    alpha = max(0.1, min(1, 1000 /SN.shape[0])), ax = ax)\n",
    "\n",
    "        ctr = SN.unary_union.centroid\n",
    "        SN[\"dctr\"] = SN.distance(ctr)\n",
    "        SN.sort_values(\"dctr\", inplace = True)\n",
    "        SN.reset_index(drop = True, inplace = True)\n",
    "\n",
    "        if SN[:int(SN.shape[0] * 3/4)].unary_union.convex_hull.area / chicago_shape.area < 1/4:\n",
    "\n",
    "            ch = gpd.GeoSeries([SN[:int(SN.shape[0] * 3/4)]\\\n",
    "                                  .unary_union.convex_hull.buffer(500)], crs = SN.crs)\n",
    "            ch.plot(color = \"#FF000044\", edgecolor = \"red\", lw = 2, zorder = -10, ax = ax)\n",
    "\n",
    "        map_format(ax)\n",
    "        ax.set_xlim(chicago_bounds[\"minx\"], chicago_bounds[\"maxx\"])\n",
    "        ax.set_ylim(chicago_bounds[\"miny\"], chicago_bounds[\"maxy\"])\n",
    "\n",
    "        fig.suptitle(\"{}\\n{} addresses\\n{} users\\n\"\\\n",
    "                     .format(net, \n",
    "                             SN.ip_address.unique().shape[0], \n",
    "                             SN.identifier.unique().shape[0]), \n",
    "                     x = 0.92, y = 0.84, ha = \"right\", va = \"top\")\n",
    "\n",
    "        fig.savefig(\"figs/{}/{}.png\".format(label, net), dpi = 150,\n",
    "                    facecolor = \"w\", edgecolor='none',\n",
    "                    bbox_inches = \"tight\", pad_inches = 0.1)\n",
    "\n",
    "        if pdf:\n",
    "            fig.savefig(\"figs/{}/{}.pdf\".format(label, net), bbox_inches = \"tight\", pad_inches = 0.1)\n",
    "\n",
    "        plt.close(\"all\")\n"
   ]
  },
  {
   "cell_type": "code",
   "execution_count": 12,
   "metadata": {
    "collapsed": false
   },
   "outputs": [
    {
     "name": "stderr",
     "output_type": "stream",
     "text": [
      "100%|██████████| 40/40 [00:25<00:00,  1.57it/s]\n"
     ]
    }
   ],
   "source": [
    "comcast = get_provider(\"Comcast\")\n",
    "plot_subnets(comcast, \"comcast\", pdf = True)"
   ]
  },
  {
   "cell_type": "code",
   "execution_count": 10,
   "metadata": {
    "collapsed": false,
    "scrolled": false
   },
   "outputs": [
    {
     "name": "stderr",
     "output_type": "stream",
     "text": [
      "100%|██████████| 209/209 [04:16<00:00,  1.23s/it]\n"
     ]
    }
   ],
   "source": [
    "tmobile = get_provider(\"T-Mobile\")\n",
    "plot_subnets(tmobile, \"tmobile\")"
   ]
  },
  {
   "cell_type": "code",
   "execution_count": null,
   "metadata": {
    "collapsed": true
   },
   "outputs": [],
   "source": [
    "verizon = get_provider(\"Verizon\")\n",
    "plot_subnets(verizon, \"verizon\")"
   ]
  },
  {
   "cell_type": "code",
   "execution_count": null,
   "metadata": {
    "collapsed": true
   },
   "outputs": [],
   "source": [
    "charter = get_provider(\"Charter\")\n",
    "plot_subnets(charter, \"charter\")"
   ]
  },
  {
   "cell_type": "code",
   "execution_count": null,
   "metadata": {
    "collapsed": true
   },
   "outputs": [],
   "source": [
    "att = get_provider(\"ATT\")\n",
    "plot_subnets(att, \"att\")"
   ]
  },
  {
   "cell_type": "code",
   "execution_count": null,
   "metadata": {
    "collapsed": true
   },
   "outputs": [],
   "source": []
  }
 ],
 "metadata": {
  "anaconda-cloud": {},
  "kernelspec": {
   "display_name": "Python [default]",
   "language": "python",
   "name": "python3"
  },
  "language_info": {
   "codemirror_mode": {
    "name": "ipython",
    "version": 3
   },
   "file_extension": ".py",
   "mimetype": "text/x-python",
   "name": "python",
   "nbconvert_exporter": "python",
   "pygments_lexer": "ipython3",
   "version": "3.5.6"
  }
 },
 "nbformat": 4,
 "nbformat_minor": 4
}
