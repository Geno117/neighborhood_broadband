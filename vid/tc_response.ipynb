{
 "cells": [
  {
   "cell_type": "code",
   "execution_count": null,
   "metadata": {},
   "outputs": [],
   "source": [
    "import pandas as pd\n",
    "\n",
    "import re, json, glob\n",
    "\n",
    "from dateutil.parser import parse as date_parse"
   ]
  },
  {
   "cell_type": "code",
   "execution_count": null,
   "metadata": {},
   "outputs": [],
   "source": [
    "json_template = \"speed_results/iperf_{}_{}mbit.json\"\n",
    "dl_dict = {\"DL\" : \"Download\", \"UL\" : \"Upload\"}\n",
    "\n",
    "data = []\n",
    "for f in glob.glob(\"speed_results/*L*json\"):\n",
    "    \n",
    "    ud    = re.sub(r\".*_([UD]L)_.*\", r\"\\1\", f)\n",
    "    ud    = dl_dict[ud]\n",
    "    speed = float(re.sub(r\".*[UD]L_(.*)mbit.json\", r\"\\1\", f))\n",
    "    \n",
    "    with open(f) as fo: j = json.load(fo)\n",
    "\n",
    "    mbits_per_s = j[\"end\"][\"sum_received\"][\"bits_per_second\"] / 1e6\n",
    "        \n",
    "    data.append([ud, speed, mbits_per_s])\n"
   ]
  },
  {
   "cell_type": "code",
   "execution_count": null,
   "metadata": {},
   "outputs": [],
   "source": [
    "cols = [\"io\", \"tc_set\", \"iperf_res\"]\n",
    "\n",
    "df = pd.DataFrame(data, columns = cols)\n",
    "df = df.pivot(index = \"tc_set\", values = \"iperf_res\", columns = \"io\")\n",
    "\n",
    "df[\"DL Ratio\"] = df[\"Download\"] / df.index\n",
    "df[\"UL Ratio\"] = df[\"Upload\"] / df.index"
   ]
  },
  {
   "cell_type": "code",
   "execution_count": null,
   "metadata": {},
   "outputs": [],
   "source": [
    "fig, ax = plt.subplots(figsize = (3, 3))\n",
    "\n",
    "df[[\"Download\", \"Upload\"]].plot(ax = ax, color = [chred, chgrey])\n",
    "\n",
    "ax.plot([0, 10], [0, 10], color = \"k\", lw = 1, ls = \":\")\n",
    "\n",
    "ax.set_xlim(0, 2)\n",
    "ax.set_ylim(0, 2)\n",
    "\n",
    "ax.set_xlabel(\"Input Bandwidth [Mbps]\\n(tc)\")\n",
    "ax.set_ylabel(\"Measured Bandwidth [Mbps]\\n(iperf3)\")\n",
    "\n",
    "leg = ax.legend(frameon = False)\n",
    "fig.savefig(\"iperf_tc_xy.pdf\")"
   ]
  },
  {
   "cell_type": "code",
   "execution_count": null,
   "metadata": {
    "scrolled": true
   },
   "outputs": [],
   "source": [
    "fig, ax = plt.subplots(figsize = (3, 3))\n",
    "\n",
    "df[[\"DL Ratio\", \"UL Ratio\"]]\\\n",
    "  .rename(columns = {\"DL Ratio\" : \"Download\", \"UL Ratio\" : \"Upload\"})\\\n",
    "  .plot(ax = ax, ms = 4, marker = '.', color = [chred, chgrey])\n",
    "\n",
    "ax.plot([0, 2], [1, 1], c = \"k\", lw = 1, ls = \":\")\n",
    "\n",
    "ax.set_xlim(0, 2)\n",
    "ax.set_ylim(0.90, 1.05)\n",
    "\n",
    "ax.set_xlabel(\"Input Bandwidth [Mbps]\\n(tc)\")\n",
    "ax.set_ylabel(\"Fraction of Input Bandwidth\\n(iperf3)\")\n",
    "\n",
    "leg = ax.legend(frameon = False)\n",
    "fig.savefig(\"iperf_tc_ratio.pdf\")"
   ]
  },
  {
   "cell_type": "markdown",
   "metadata": {},
   "source": [
    "### Zoom Metrics"
   ]
  },
  {
   "cell_type": "code",
   "execution_count": null,
   "metadata": {},
   "outputs": [],
   "source": [
    "def get_meeting_qos():\n",
    "    \n",
    "    with open(\"meeting_metrics.json\") as f:\n",
    "        j = json.load(f)\n",
    "        \n",
    "    qos_values = []\n",
    "\n",
    "    qos = j[\"user_qos\"]\n",
    "\n",
    "    for m in qos:\n",
    "\n",
    "        if not m[\"video_output\"][\"bitrate\"]: continue \n",
    "\n",
    "        ts      = int(date_parse(m[\"date_time\"]).timestamp())\n",
    "\n",
    "        bitrate = int(m[\"video_output\"][\"bitrate\"].replace(\" kbps\", \"\")) / 1000\n",
    "        loss    = float(m[\"video_output\"][\"avg_loss\"].replace(\"%\", \"\"))\n",
    "        fps     = int(m[\"video_output\"][\"frame_rate\"].replace(\" fps\", \"\"))\n",
    "        res     = m[\"video_output\"][\"resolution\"]\n",
    "        resx, resy = [int(v) for v in res.split(\"*\")]\n",
    "\n",
    "        qos_values.append([ts, bitrate, loss, resx, resy, fps])\n",
    "\n",
    "\n",
    "    columns = [\"ts\", \"bitrate\", \"loss\", \"resx\", \"resy\", \"fps\"]\n",
    "    df = pd.DataFrame(qos_values, columns = columns)\n",
    "\n",
    "    # df.ts = pd.to_datetime(df.ts, unit = \"s\")\n",
    "    # df.set_index(\"ts\", inplace = True)\n",
    "    \n",
    "    df.sort_values(by = \"ts\")\n",
    "    \n",
    "    return df"
   ]
  },
  {
   "cell_type": "code",
   "execution_count": null,
   "metadata": {},
   "outputs": [],
   "source": [
    "bw  = pd.read_csv(\"speed_cycle.csv\").sort_values(\"ts\")\n",
    "qos = get_meeting_qos()"
   ]
  },
  {
   "cell_type": "code",
   "execution_count": null,
   "metadata": {},
   "outputs": [],
   "source": [
    "df = pd.merge_asof(qos, bw, tolerance = 300).dropna()\n",
    "df = df.query(\"ul < 100\").groupby(\"ul\").mean()"
   ]
  },
  {
   "cell_type": "code",
   "execution_count": null,
   "metadata": {},
   "outputs": [],
   "source": [
    "fig, axes = plt.subplots(4, 1, figsize = (6, 8), sharex = True)\n",
    "label = {\"bitrate\" : \"Bitrate [Mpbs]\", \"loss\" : \"Loss [%]\", \n",
    "         \"fps\" : \"FPS\", \"resx\" : \"Horizontal\\nResolution\"}\n",
    "\n",
    "\n",
    "for y, ax in zip([\"bitrate\", \"loss\", \"fps\", \"resx\"], axes):\n",
    "\n",
    "    df[y].plot(ax = ax, color = chred)\n",
    "    ax.set_ylabel(label[y], labelpad = 10)\n",
    "    ax.set_xlabel(\"Upload Bandwidth [Mbps]\")\n",
    "    \n",
    "fig.savefig(\"zoom_perf.pdf\")"
   ]
  }
 ],
 "metadata": {
  "kernelspec": {
   "display_name": "Python 3",
   "language": "python",
   "name": "python3"
  },
  "language_info": {
   "codemirror_mode": {
    "name": "ipython",
    "version": 3
   },
   "file_extension": ".py",
   "mimetype": "text/x-python",
   "name": "python",
   "nbconvert_exporter": "python",
   "pygments_lexer": "ipython3",
   "version": "3.8.3"
  }
 },
 "nbformat": 4,
 "nbformat_minor": 4
}
