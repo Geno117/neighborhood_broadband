{
 "cells": [
  {
   "cell_type": "code",
   "execution_count": 1,
   "metadata": {},
   "outputs": [],
   "source": [
    "import pandas as pd\n",
    "import geopandas as gpd\n",
    "\n",
    "from shapely.geometry import Point\n",
    "from fiona.crs import from_epsg\n",
    "\n",
    "import pytz, datetime\n",
    "\n",
    "import sqlite3"
   ]
  },
  {
   "cell_type": "code",
   "execution_count": 2,
   "metadata": {},
   "outputs": [],
   "source": [
    "kw = pd.read_csv(\"kali/data/kismet_wigle_20200616.csv\", skiprows = 1)\n",
    "kw.rename(columns = {\"MAC\" : \"mac\", \"SSID\" : \"ssid\", \"Channel\" : \"ch\", \"RSSI\" : \"rssi\", \n",
    "                     \"CurrentLatitude\" : \"lat\", \"CurrentLongitude\" : \"lon\", \n",
    "                     \"AltitudeMeters\" : \"alt\", \"AccuracyMeters\" : \"acc\", \"Type\" : \"type\", \n",
    "                     \"FirstSeen\" : \"time\"}, \n",
    "          inplace = True)\n",
    "\n",
    "kw.time = pd.to_datetime(kw.time).dt.tz_localize('utc').dt.tz_convert(pytz.timezone('US/Central'))\n",
    "\n",
    "gkw = gpd.GeoSeries([Point(xy) for xy in kw[[\"lon\", \"lat\"]].values], crs = from_epsg(4326)).to_crs(epsg = 3528)\n",
    "kw = gpd.GeoDataFrame(data = kw, geometry = gkw, crs = from_epsg(3528))"
   ]
  },
  {
   "cell_type": "code",
   "execution_count": 3,
   "metadata": {},
   "outputs": [
    {
     "data": {
      "text/plain": [
       "(80761, 4330)"
      ]
     },
     "execution_count": 3,
     "metadata": {},
     "output_type": "execute_result"
    }
   ],
   "source": [
    "kw.mac.shape[0], kw.mac.unique().shape[0]"
   ]
  },
  {
   "cell_type": "markdown",
   "metadata": {},
   "source": [
    "This looks right -- got the power fixed???"
   ]
  },
  {
   "cell_type": "code",
   "execution_count": 4,
   "metadata": {},
   "outputs": [
    {
     "data": {
      "text/plain": [
       "<matplotlib.axes._subplots.AxesSubplot at 0x114e69e48>"
      ]
     },
     "execution_count": 4,
     "metadata": {},
     "output_type": "execute_result"
    },
    {
     "data": {
      "image/png": "[encoded data removed]",
      "text/plain": [
       "<Figure size 432x288 with 1 Axes>"
      ]
     },
     "metadata": {
      "needs_background": "light"
     },
     "output_type": "display_data"
    }
   ],
   "source": [
    "kw.plot()"
   ]
  },
  {
   "cell_type": "code",
   "execution_count": 5,
   "metadata": {},
   "outputs": [
    {
     "name": "stdout",
     "output_type": "stream",
     "text": [
      "CREATE TABLE KISMET (kismet_version TEXT, db_version INT, db_module TEXT);\r\n",
      "CREATE TABLE devices (first_time INT, last_time INT, devkey TEXT, phyname TEXT, devmac TEXT, strongest_signal INT, min_lat REAL, min_lon REAL, max_lat REAL, max_lon REAL, avg_lat REAL, avg_lon REAL, bytes_data INT, type TEXT, device BLOB, UNIQUE(phyname, devmac) ON CONFLICT REPLACE);\r\n",
      "CREATE TABLE packets (ts_sec INT, ts_usec INT, phyname TEXT, sourcemac TEXT, destmac TEXT, transmac TEXT, frequency REAL, devkey TEXT, lat REAL, lon REAL, alt REAL, speed REAL, heading REAL, packet_len INT, signal INT, datasource TEXT, dlt INT, packet BLOB, error INT, tags TEXT);\r\n",
      "CREATE TABLE data (ts_sec INT, ts_usec INT, phyname TEXT, devmac TEXT, lat REAL, lon REAL, alt REAL, speed REAL, heading REAL, datasource TEXT, type TEXT, json BLOB );\r\n",
      "CREATE TABLE datasources (uuid TEXT, typestring TEXT, definition TEXT, name TEXT, interface TEXT, json BLOB, UNIQUE(uuid) ON CONFLICT REPLACE);\r\n",
      "CREATE TABLE alerts (ts_sec INT, ts_usec INT, phyname TEXT, devmac TEXT, lat REAL, lon REAL, header TEXT, json BLOB );\r\n",
      "CREATE TABLE messages (ts_sec INT, lat REAL, lon REAL, msgtype TEXT, message TEXT );\r\n",
      "CREATE TABLE snapshots (ts_sec INT, ts_usec INT, lat REAL, lon REAL, snaptype TEXT, json BLOB );\r\n"
     ]
    }
   ],
   "source": [
    "! sqlite3 kali/data/kismet_200616.sqlite <<< \".schema\""
   ]
  },
  {
   "cell_type": "code",
   "execution_count": 6,
   "metadata": {},
   "outputs": [],
   "source": [
    "devices_sql = \"\"\"\n",
    "SELECT \n",
    "  json_extract(device, '$.\"dot11.device\".\"dot11.device.last_beaconed_ssid_record\".\"dot11.advertisedssid.ssid\"') ssid, \n",
    "  devmac, \n",
    "  strongest_signal signal, \n",
    "  (first_time + last_time) / 2 time, \n",
    "  avg_lat lat, avg_lon lon \n",
    "FROM\n",
    "  devices \n",
    "WHERE \n",
    "  avg_lat > 0 AND \n",
    "  type = 'Wi-Fi AP' \n",
    "ORDER BY \n",
    "  signal DESC\n",
    ";\n",
    "\"\"\""
   ]
  },
  {
   "cell_type": "code",
   "execution_count": 7,
   "metadata": {},
   "outputs": [],
   "source": [
    "con = sqlite3.connect(\"kali/data/kismet_200616.sqlite\")\n",
    "dev = pd.read_sql(devices_sql, con)\n",
    "\n",
    "dev.time = pd.to_datetime(dev.time, unit='s', origin='unix')\\\n",
    "             .dt.tz_localize('utc').dt.tz_convert(pytz.timezone('US/Central'))\n",
    "    \n",
    "dev = gpd.GeoDataFrame(data = dev, crs = from_epsg(3528), geometry = \\\n",
    "                       gpd.GeoSeries([Point(xy) for xy in dev[[\"lon\", \"lat\"]].values], \n",
    "                                     crs = from_epsg(4326)).to_crs(epsg = 3528))"
   ]
  },
  {
   "cell_type": "code",
   "execution_count": 8,
   "metadata": {},
   "outputs": [
    {
     "data": {
      "text/plain": [
       "<matplotlib.axes._subplots.AxesSubplot at 0x117c78278>"
      ]
     },
     "execution_count": 8,
     "metadata": {},
     "output_type": "execute_result"
    },
    {
     "data": {
      "image/png": "[encoded data removed]",
      "text/plain": [
       "<Figure size 432x288 with 1 Axes>"
      ]
     },
     "metadata": {
      "needs_background": "light"
     },
     "output_type": "display_data"
    }
   ],
   "source": [
    "dev.plot()"
   ]
  },
  {
   "cell_type": "code",
   "execution_count": null,
   "metadata": {},
   "outputs": [],
   "source": []
  }
 ],
 "metadata": {
  "kernelspec": {
   "display_name": "Python 3",
   "language": "python",
   "name": "python3"
  },
  "language_info": {
   "codemirror_mode": {
    "name": "ipython",
    "version": 3
   },
   "file_extension": ".py",
   "mimetype": "text/x-python",
   "name": "python",
   "nbconvert_exporter": "python",
   "pygments_lexer": "ipython3",
   "version": "3.6.7"
  }
 },
 "nbformat": 4,
 "nbformat_minor": 2
}
